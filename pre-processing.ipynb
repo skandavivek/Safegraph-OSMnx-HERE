{
 "cells": [
  {
   "cell_type": "code",
   "execution_count": 1,
   "id": "db86d20a",
   "metadata": {},
   "outputs": [],
   "source": [
    "import pandas as pd\n",
    "from matplotlib import pyplot as plt\n",
    "import numpy as np\n",
    "from collections import defaultdict\n",
    "import json\n",
    "import pickle\n",
    "import osmnx as ox\n",
    "import networkx as nx"
   ]
  },
  {
   "cell_type": "code",
   "execution_count": 2,
   "id": "3e7ca744",
   "metadata": {},
   "outputs": [],
   "source": [
    "import trips"
   ]
  },
  {
   "cell_type": "code",
   "execution_count": 2,
   "id": "1121aebc",
   "metadata": {},
   "outputs": [],
   "source": [
    "df=pd.read_csv('../DC/core_poi-patterns')"
   ]
  },
  {
   "cell_type": "markdown",
   "id": "6ca98c43",
   "metadata": {},
   "source": [
    "## Tasks:\n",
    "\n",
    "1) locate only lat/long of places inside DC area (currently is a much greater distance)\n",
    "\n",
    "2) find trips entering this area as well as leaving this area \n",
    "\n",
    "3) from trips get ODs corresponding to shortest time paths\n"
   ]
  },
  {
   "cell_type": "code",
   "execution_count": 3,
   "id": "9ebf680e",
   "metadata": {},
   "outputs": [],
   "source": [
    "#Task 1"
   ]
  },
  {
   "cell_type": "code",
   "execution_count": 5,
   "id": "abae3616",
   "metadata": {},
   "outputs": [],
   "source": [
    "#reading in census files in order to get cbg lat longs (the origin lat longs are not given from SafeGraph-only cbg IDs.)\n",
    "df_census=pd.read_csv('../safegraph_open_census_data_2019/data/cbg_b01.csv')\n",
    "df_geog=pd.read_csv('../safegraph_open_census_data_2019/metadata/cbg_geographic_data.csv')"
   ]
  },
  {
   "cell_type": "code",
   "execution_count": 6,
   "id": "ac861066",
   "metadata": {},
   "outputs": [],
   "source": [
    "df_census=df_geog.merge(df_census, how='inner', on='census_block_group')\n",
    "df_census=df_census[['census_block_group', 'amount_land', 'amount_water', 'latitude',\n",
    "       'longitude','B01003e1']]"
   ]
  },
  {
   "cell_type": "code",
   "execution_count": 8,
   "id": "c7ee1624",
   "metadata": {},
   "outputs": [],
   "source": [
    "df2=df.dropna(subset=['visitor_home_cbgs']).reset_index(drop=True)\n",
    "df3=df2.copy()"
   ]
  },
  {
   "cell_type": "code",
   "execution_count": null,
   "id": "ae3c717c",
   "metadata": {},
   "outputs": [],
   "source": [
    "#now getting all the ODs by looping through safegraph poi data; each point in that df2 is a unique destination, and \n",
    "#has info on corresponding origins\n",
    "\n",
    "OD_dict=defaultdict(int)\n",
    "c=0\n",
    "for i in range(0,len(df3)):\n",
    "    O_dict=json.loads(df2['visitor_home_cbgs'][i]) # visitor origins\n",
    "    \n",
    "\n",
    "    for O,V in O_dict.items():\n",
    "        try:\n",
    "            np.int64(O)\n",
    "           \n",
    "            OD_dict[(O,df3['latitude'][df3.index[i]],df3['longitude'][df3.index[i]])]+=V\n",
    "        except:\n",
    "            c+=1\n",
    "            \n",
    "\n",
    "            \n",
    "        \n",
    "    print(i)\n",
    "        "
   ]
  },
  {
   "cell_type": "code",
   "execution_count": 10,
   "id": "23a0aaee",
   "metadata": {},
   "outputs": [
    {
     "data": {
      "text/plain": [
       "1265891"
      ]
     },
     "execution_count": 10,
     "metadata": {},
     "output_type": "execute_result"
    }
   ],
   "source": [
    "len(OD_dict)"
   ]
  },
  {
   "cell_type": "code",
   "execution_count": 11,
   "id": "70de5689",
   "metadata": {},
   "outputs": [],
   "source": [
    "df_OD = pd.DataFrame(list(OD_dict.items()), columns=['OD','trips'])\n",
    "df_OD[['O', 'lat_D','long_D']] = pd.DataFrame(df_OD['OD'].tolist(), index=df_OD.index)\n",
    "#df_OD contains lat and longs of Destinations, origin CBGs, as well as number of trips from specific origins to destinations"
   ]
  },
  {
   "cell_type": "code",
   "execution_count": 12,
   "id": "4c0a8094",
   "metadata": {},
   "outputs": [],
   "source": [
    "df_OD['O']=df_OD['O'].astype(np.int64)\n",
    "df_OD_ll=pd.merge(df_OD,df_census[['census_block_group','latitude','longitude']],how='inner',left_on='O',right_on='census_block_group')\n",
    "df_OD_ll=df_OD_ll[['O','latitude','longitude','lat_D','long_D','trips']]\n",
    "df_OD_ll.columns=['O','lat_O','long_O','lat_D','long_D','trips']\n",
    "\n",
    "#finally getting origin and destination lat longs by merging with census data, as well as number of trips!"
   ]
  },
  {
   "cell_type": "code",
   "execution_count": 3,
   "id": "d2afbb91",
   "metadata": {},
   "outputs": [],
   "source": [
    "place_name=\"Washington DC, USA\"\n",
    "G = ox.graph_from_place(place_name,network_type='drive', simplify=True)"
   ]
  },
  {
   "cell_type": "code",
   "execution_count": 15,
   "id": "dc7441d9",
   "metadata": {},
   "outputs": [],
   "source": [
    "#getting nearest nodes on osmnx graph from origin and destinations\n",
    "\n",
    "ox_id_O,dist_ox_O=ox.distance.nearest_nodes(G, df_OD_ll['long_O'],df_OD_ll['lat_O'], return_dist=True)\n",
    "ox_id_D,dist_ox_D=ox.distance.nearest_nodes(G, df_OD_ll['long_D'],df_OD_ll['lat_D'], return_dist=True)"
   ]
  },
  {
   "cell_type": "code",
   "execution_count": 19,
   "id": "fc65408f",
   "metadata": {},
   "outputs": [],
   "source": [
    "df_OD_ll['dist_D']=dist_ox_D\n",
    "df_OD_ll['dist_O']=dist_ox_O\n",
    "\n",
    "df_OD_ll['osm_D']=ox_id_D\n",
    "df_OD_ll['osm_O']=ox_id_O"
   ]
  },
  {
   "cell_type": "code",
   "execution_count": 20,
   "id": "668a473e",
   "metadata": {},
   "outputs": [],
   "source": [
    "#making the data restricted to within 10 km from OSMnx nodes\n",
    "\n",
    "df_OD_ll_c=df_OD_ll.loc[(df_OD_ll['dist_D']<=10000) & (df_OD_ll['dist_O']<=10000)]"
   ]
  },
  {
   "cell_type": "code",
   "execution_count": 21,
   "id": "81fe68c0",
   "metadata": {},
   "outputs": [],
   "source": [
    "#so that one of the destinations/origins is for sure inside the DC street network\n",
    "df_OD_ll_c2=df_OD_ll_c.loc[(df_OD_ll_c['dist_D']<=1000) | (df_OD_ll_c['dist_O']<=1000)].reset_index(drop=True)"
   ]
  },
  {
   "cell_type": "code",
   "execution_count": 22,
   "id": "8e05cd43",
   "metadata": {},
   "outputs": [],
   "source": [
    "df_OD_ll_c2.to_csv('df_OD_ll_c2.csv')"
   ]
  },
  {
   "cell_type": "code",
   "execution_count": 22,
   "id": "a072ddae",
   "metadata": {},
   "outputs": [
    {
     "data": {
      "text/plain": [
       "110541"
      ]
     },
     "execution_count": 22,
     "metadata": {},
     "output_type": "execute_result"
    }
   ],
   "source": [
    "df_OD_ll_c2=pd.read_csv('df_OD_ll_c2.csv')\n",
    "len(df_OD_ll_c2)"
   ]
  },
  {
   "cell_type": "code",
   "execution_count": 23,
   "id": "f6a1eb7b",
   "metadata": {},
   "outputs": [
    {
     "data": {
      "text/html": [
       "<div>\n",
       "<style scoped>\n",
       "    .dataframe tbody tr th:only-of-type {\n",
       "        vertical-align: middle;\n",
       "    }\n",
       "\n",
       "    .dataframe tbody tr th {\n",
       "        vertical-align: top;\n",
       "    }\n",
       "\n",
       "    .dataframe thead th {\n",
       "        text-align: right;\n",
       "    }\n",
       "</style>\n",
       "<table border=\"1\" class=\"dataframe\">\n",
       "  <thead>\n",
       "    <tr style=\"text-align: right;\">\n",
       "      <th></th>\n",
       "      <th>O</th>\n",
       "      <th>lat_O</th>\n",
       "      <th>long_O</th>\n",
       "      <th>lat_D</th>\n",
       "      <th>long_D</th>\n",
       "      <th>trips</th>\n",
       "      <th>dist_D</th>\n",
       "      <th>dist_O</th>\n",
       "      <th>osm_D</th>\n",
       "      <th>osm_O</th>\n",
       "    </tr>\n",
       "  </thead>\n",
       "  <tbody>\n",
       "    <tr>\n",
       "      <th>0</th>\n",
       "      <td>240338035193</td>\n",
       "      <td>38.897303</td>\n",
       "      <td>-76.858576</td>\n",
       "      <td>38.872970</td>\n",
       "      <td>-77.006965</td>\n",
       "      <td>4</td>\n",
       "      <td>93.106359</td>\n",
       "      <td>4532.209238</td>\n",
       "      <td>49759499</td>\n",
       "      <td>1231873643</td>\n",
       "    </tr>\n",
       "    <tr>\n",
       "      <th>1</th>\n",
       "      <td>240338035193</td>\n",
       "      <td>38.897303</td>\n",
       "      <td>-76.858576</td>\n",
       "      <td>38.937902</td>\n",
       "      <td>-76.992490</td>\n",
       "      <td>4</td>\n",
       "      <td>83.152595</td>\n",
       "      <td>4532.209238</td>\n",
       "      <td>49757435</td>\n",
       "      <td>1231873643</td>\n",
       "    </tr>\n",
       "    <tr>\n",
       "      <th>2</th>\n",
       "      <td>240338035193</td>\n",
       "      <td>38.897303</td>\n",
       "      <td>-76.858576</td>\n",
       "      <td>38.919409</td>\n",
       "      <td>-76.992536</td>\n",
       "      <td>4</td>\n",
       "      <td>107.059074</td>\n",
       "      <td>4532.209238</td>\n",
       "      <td>49858149</td>\n",
       "      <td>1231873643</td>\n",
       "    </tr>\n",
       "    <tr>\n",
       "      <th>3</th>\n",
       "      <td>240338035193</td>\n",
       "      <td>38.897303</td>\n",
       "      <td>-76.858576</td>\n",
       "      <td>38.929460</td>\n",
       "      <td>-76.974860</td>\n",
       "      <td>4</td>\n",
       "      <td>22.838358</td>\n",
       "      <td>4532.209238</td>\n",
       "      <td>49744963</td>\n",
       "      <td>1231873643</td>\n",
       "    </tr>\n",
       "    <tr>\n",
       "      <th>4</th>\n",
       "      <td>240338035193</td>\n",
       "      <td>38.897303</td>\n",
       "      <td>-76.858576</td>\n",
       "      <td>38.901157</td>\n",
       "      <td>-76.995284</td>\n",
       "      <td>4</td>\n",
       "      <td>33.680722</td>\n",
       "      <td>4532.209238</td>\n",
       "      <td>49790030</td>\n",
       "      <td>1231873643</td>\n",
       "    </tr>\n",
       "  </tbody>\n",
       "</table>\n",
       "</div>"
      ],
      "text/plain": [
       "              O      lat_O     long_O      lat_D     long_D  trips  \\\n",
       "0  240338035193  38.897303 -76.858576  38.872970 -77.006965      4   \n",
       "1  240338035193  38.897303 -76.858576  38.937902 -76.992490      4   \n",
       "2  240338035193  38.897303 -76.858576  38.919409 -76.992536      4   \n",
       "3  240338035193  38.897303 -76.858576  38.929460 -76.974860      4   \n",
       "4  240338035193  38.897303 -76.858576  38.901157 -76.995284      4   \n",
       "\n",
       "       dist_D       dist_O     osm_D       osm_O  \n",
       "0   93.106359  4532.209238  49759499  1231873643  \n",
       "1   83.152595  4532.209238  49757435  1231873643  \n",
       "2  107.059074  4532.209238  49858149  1231873643  \n",
       "3   22.838358  4532.209238  49744963  1231873643  \n",
       "4   33.680722  4532.209238  49790030  1231873643  "
      ]
     },
     "execution_count": 23,
     "metadata": {},
     "output_type": "execute_result"
    }
   ],
   "source": [
    "df_OD_ll_c2.head()"
   ]
  },
  {
   "cell_type": "code",
   "execution_count": 24,
   "id": "c2dfe30f",
   "metadata": {},
   "outputs": [],
   "source": [
    "OD_in=df_OD_ll_c2[['osm_O','osm_D']].copy()\n",
    "OD_in.columns=['ID_osm_start','ID_osm_end']\n",
    "OD_in['trips']=df_OD_ll_c2['trips']"
   ]
  },
  {
   "cell_type": "code",
   "execution_count": 25,
   "id": "192b2d56",
   "metadata": {},
   "outputs": [],
   "source": [
    "OD_in.to_csv('OD_in.csv')"
   ]
  },
  {
   "cell_type": "code",
   "execution_count": null,
   "id": "c2b8a0b7",
   "metadata": {},
   "outputs": [],
   "source": [
    "#processing"
   ]
  },
  {
   "cell_type": "code",
   "execution_count": 4,
   "id": "5c12d2b6",
   "metadata": {},
   "outputs": [],
   "source": [
    "OD_in=pd.read_csv('OD_in.csv')"
   ]
  },
  {
   "cell_type": "code",
   "execution_count": null,
   "id": "4ca69f5f",
   "metadata": {},
   "outputs": [],
   "source": [
    "trips.trips_OD(G,OD_in,'')"
   ]
  },
  {
   "cell_type": "code",
   "execution_count": 5,
   "id": "ec333b4e",
   "metadata": {},
   "outputs": [],
   "source": [
    "routes_raw=pickle.load( open( \"routes_raw_tt_io.data\", \"rb\" ) )"
   ]
  },
  {
   "cell_type": "code",
   "execution_count": 6,
   "id": "112f183a",
   "metadata": {},
   "outputs": [],
   "source": [
    "routes=np.loadtxt('routes_tt_io2.txt')"
   ]
  },
  {
   "cell_type": "code",
   "execution_count": null,
   "id": "43a19362",
   "metadata": {},
   "outputs": [],
   "source": [
    "trips.tar(routes,routes_raw,'')"
   ]
  },
  {
   "cell_type": "code",
   "execution_count": 7,
   "id": "18ab5f9f",
   "metadata": {},
   "outputs": [],
   "source": [
    "routes_imp=routes[np.argsort(-1*routes[:,1])]"
   ]
  },
  {
   "cell_type": "code",
   "execution_count": 10,
   "id": "b273f4d4",
   "metadata": {},
   "outputs": [],
   "source": [
    "trips2=np.loadtxt('trips_tt_io2.txt')"
   ]
  },
  {
   "cell_type": "code",
   "execution_count": null,
   "id": "660715a1",
   "metadata": {},
   "outputs": [],
   "source": [
    "trips.removal_perc(routes_imp,routes_raw,trips2,'_t')"
   ]
  },
  {
   "cell_type": "code",
   "execution_count": 13,
   "id": "c28cb360",
   "metadata": {},
   "outputs": [],
   "source": [
    "c_t=np.loadtxt('c_sum_trips_frac_t.txt')"
   ]
  },
  {
   "cell_type": "code",
   "execution_count": 14,
   "id": "14952770",
   "metadata": {},
   "outputs": [
    {
     "data": {
      "text/plain": [
       "[<matplotlib.lines.Line2D at 0x219553ec0d0>]"
      ]
     },
     "execution_count": 14,
     "metadata": {},
     "output_type": "execute_result"
    },
    {
     "data": {
      "image/png": "[encoded data removed]",
      "text/plain": [
       "<Figure size 432x288 with 1 Axes>"
      ]
     },
     "metadata": {
      "needs_background": "light"
     },
     "output_type": "display_data"
    }
   ],
   "source": [
    "plt.semilogx(c_t)"
   ]
  },
  {
   "cell_type": "code",
   "execution_count": 8,
   "id": "ef346c35",
   "metadata": {},
   "outputs": [],
   "source": [
    "#iterative removal\n",
    "\n",
    "tar=np.loadtxt('tar')\n",
    "\n",
    "routes_it=np.zeros([len(tar),2])\n",
    "routes_it[:,0]=tar\n",
    "\n",
    "#random removal\n",
    "\n",
    "routes_ran=routes.copy()\n",
    "np.random.shuffle(routes_ran)\n",
    "\n"
   ]
  },
  {
   "cell_type": "code",
   "execution_count": null,
   "id": "a9294278",
   "metadata": {},
   "outputs": [],
   "source": [
    "trips.removal_perc(routes_it,routes_raw,trips2,'_it')\n",
    "trips.removal_perc(routes_ran,routes_raw,trips2,'_r')\n"
   ]
  },
  {
   "cell_type": "code",
   "execution_count": 11,
   "id": "d7bbd32d",
   "metadata": {},
   "outputs": [],
   "source": [
    "def perc(nodes_dis,G,OD_in,name):\n",
    "\n",
    "#nodes_dis=routes[np.argsort(-1*routes[:,1]),0]\n",
    "#nodes_dis_r=nodes_dis.copy()\n",
    "    p=np.zeros(len(nodes_dis))\n",
    "    G2=G.copy()\n",
    "    for i in range(0, len(nodes_dis)):\n",
    "        G2=G.copy()\n",
    "        #random.shuffle(nodes_dis_r)\n",
    "        G2.remove_nodes_from(list(nodes_dis[0:i]))\n",
    "        OD_in_s=OD_in.sample(n=1000,weights=OD_in['trips'])\n",
    "        OD_in_s=OD_in_s.reset_index(drop=True)\n",
    "        OD_in_s.columns\n",
    "        for j in range(0, len(OD_in_s)):\n",
    "            if(G2.has_node(OD_in_s['ID_osm_start'][j]) & G2.has_node(OD_in_s['ID_osm_end'][j])):\n",
    "                #is there still a path after removing nodes?\n",
    "                p[i]+=nx.has_path(G2,OD_in_s['ID_osm_start'][j],OD_in_s['ID_osm_end'][j])*1\n",
    "        print(i,p[i])\n",
    "    np.savetxt('p_tt_sub1000'+name+'.txt',p)\n"
   ]
  },
  {
   "cell_type": "code",
   "execution_count": null,
   "id": "383a9c43",
   "metadata": {},
   "outputs": [],
   "source": [
    "trips.perc(routes_imp[:,0],G,OD_in,'_t')\n",
    "trips.perc(routes_it[:,0],G,OD_in,'_it')\n",
    "trips.perc(routes_ran[:,0],G,OD_in,'_r')"
   ]
  },
  {
   "cell_type": "code",
   "execution_count": null,
   "id": "9c4e71f9",
   "metadata": {},
   "outputs": [],
   "source": []
  }
 ],
 "metadata": {
  "kernelspec": {
   "display_name": "Python 3",
   "language": "python",
   "name": "python3"
  },
  "language_info": {
   "codemirror_mode": {
    "name": "ipython",
    "version": 3
   },
   "file_extension": ".py",
   "mimetype": "text/x-python",
   "name": "python",
   "nbconvert_exporter": "python",
   "pygments_lexer": "ipython3",
   "version": "3.9.5"
  }
 },
 "nbformat": 4,
 "nbformat_minor": 5
}
