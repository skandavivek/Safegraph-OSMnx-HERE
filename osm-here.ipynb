{
 "cells": [
  {
   "cell_type": "code",
   "execution_count": 1,
   "id": "3c768078",
   "metadata": {},
   "outputs": [],
   "source": [
    "import osmnx as ox\n",
    "import networkx as nx\n",
    "import pandas as pd\n",
    "from matplotlib import pyplot as plt\n",
    "from collections import defaultdict\n",
    "import numpy as np\n",
    "import re\n",
    "import pickle"
   ]
  },
  {
   "cell_type": "code",
   "execution_count": 2,
   "id": "a316c73f",
   "metadata": {},
   "outputs": [],
   "source": [
    "import trips"
   ]
  },
  {
   "cell_type": "code",
   "execution_count": 3,
   "id": "c77bf880",
   "metadata": {},
   "outputs": [],
   "source": [
    "place_name=\"Washington DC, USA\"\n",
    "G = ox.graph_from_place(place_name,network_type='drive', simplify=True)"
   ]
  },
  {
   "cell_type": "code",
   "execution_count": null,
   "id": "bcb099ef",
   "metadata": {},
   "outputs": [],
   "source": [
    "#ls=75\n",
    "ms=np.zeros(99)\n",
    "for ls in range(0,99):\n",
    "    b=pd.read_csv('../here-data/speeds_df/df_speeds'+str(ls)+'.csv')\n",
    "    b.drop(b.loc[b['speeds_rat'] < 0].index, inplace=True)\n",
    "    b.drop_duplicates(subset=['latitude', 'longitude'], inplace=True)\n",
    "    ms[ls]=b['speeds_rat'].mean()\n",
    "    print(ls)\n",
    "#b=b.reset_index(drop=True)"
   ]
  },
  {
   "cell_type": "code",
   "execution_count": 14,
   "id": "2dab661a",
   "metadata": {},
   "outputs": [
    {
     "data": {
      "text/plain": [
       "[<matplotlib.lines.Line2D at 0x1da69a17580>]"
      ]
     },
     "execution_count": 14,
     "metadata": {},
     "output_type": "execute_result"
    },
    {
     "data": {
      "image/png": "[encoded data removed]",
      "text/plain": [
       "<Figure size 432x288 with 1 Axes>"
      ]
     },
     "metadata": {
      "needs_background": "light"
     },
     "output_type": "display_data"
    }
   ],
   "source": [
    "plt.plot(ms)"
   ]
  },
  {
   "cell_type": "code",
   "execution_count": null,
   "id": "52f406b7",
   "metadata": {},
   "outputs": [],
   "source": [
    "#getting nearest edges from HERE traffic files to osmnx\n",
    "def edges_r(i):\n",
    "    #dicty=defaultdict(int)\n",
    "    #for i in range(0,len(b)):\n",
    "    X=b['longitude'][i]\n",
    "    Y=b['latitude'][i]\n",
    "    c,dist=ox.distance.nearest_edges(G, X, Y,return_dist=True)\n",
    "    (u,v,key)=c\n",
    "        #edges.loc[u,v]['speed']=b['speeds'][i]\n",
    "        #dicty[u,v]+=1\n",
    "    return(u,v,key,dist,b['speeds'][i])"
   ]
  },
  {
   "cell_type": "code",
   "execution_count": 42,
   "id": "af30dc10",
   "metadata": {},
   "outputs": [],
   "source": [
    "import multiprocessing as mp\n",
    "import numpy as np\n",
    "from joblib import Parallel, delayed"
   ]
  },
  {
   "cell_type": "code",
   "execution_count": null,
   "id": "426560c6",
   "metadata": {},
   "outputs": [],
   "source": [
    "edges_speeds=Parallel(n_jobs=-1,verbose=10)([delayed(edges_r)(i) for i in range(len(b))])"
   ]
  },
  {
   "cell_type": "code",
   "execution_count": null,
   "id": "089fdb27",
   "metadata": {},
   "outputs": [],
   "source": [
    "df_es = pd.DataFrame(edges_speeds)\n",
    "df_es.to_csv('df_es_75.csv')"
   ]
  },
  {
   "cell_type": "code",
   "execution_count": 16,
   "id": "ce804357",
   "metadata": {},
   "outputs": [],
   "source": [
    "#merging speeds file to edges"
   ]
  },
  {
   "cell_type": "code",
   "execution_count": 4,
   "id": "a0d0ec72",
   "metadata": {},
   "outputs": [],
   "source": [
    "df_es=pd.read_csv('../df_es_75.csv')"
   ]
  },
  {
   "cell_type": "code",
   "execution_count": 5,
   "id": "00545e6a",
   "metadata": {},
   "outputs": [],
   "source": [
    "df_es=df_es[['0','1','2','4']]\n",
    "df_es.columns=['u','v','key','speed']\n",
    "df_es=df_es.groupby(['u','v','key']).mean().reset_index()\n",
    "df_es.index=pd.MultiIndex.from_frame(df_es[['u','v','key']])\n",
    "df_es.columns=['u1','v1','key1','speed']"
   ]
  },
  {
   "cell_type": "code",
   "execution_count": 6,
   "id": "36f239c6",
   "metadata": {},
   "outputs": [],
   "source": [
    "nodes,edges = ox.graph_to_gdfs(G,fill_edge_geometry=False)\n",
    "edges2=edges.merge(df_es, left_index=True, right_index=True,how='left')\n"
   ]
  },
  {
   "cell_type": "code",
   "execution_count": 4,
   "id": "4852837e",
   "metadata": {},
   "outputs": [],
   "source": [
    "\n",
    "\n",
    "def add_edge_speeds3(G, edges,hwy_speeds=None, fallback=None, precision=1, agg=np.mean):\n",
    "    \"\"\"\n",
    "    Add edge speeds (km per hour) to graph as new `speed_kph` edge attributes.\n",
    "    By default, this imputes free-flow travel speeds for all edges via the\n",
    "    mean `maxspeed` value of the edges of each highway type. For highway types\n",
    "    in the graph that have no `maxspeed` value on any edge, it assigns the\n",
    "    mean of all `maxspeed` values in graph.\n",
    "    This default mean-imputation can obviously be imprecise, and the user can\n",
    "    override it by passing in `hwy_speeds` and/or `fallback` arguments that\n",
    "    correspond to local speed limit standards. The user can also specify a\n",
    "    different aggregation function (such as the median) to impute missing\n",
    "    values from the observed values.\n",
    "    If edge `maxspeed` attribute has \"mph\" in it, value will automatically be\n",
    "    converted from miles per hour to km per hour. Any other speed units should\n",
    "    be manually converted to km per hour prior to running this function,\n",
    "    otherwise there could be unexpected results. If \"mph\" does not appear in\n",
    "    the edge's maxspeed attribute string, then function assumes kph, per OSM\n",
    "    guidelines: https://wiki.openstreetmap.org/wiki/Map_Features/Units\n",
    "    Parameters\n",
    "    ----------\n",
    "    G : networkx.MultiDiGraph\n",
    "        input graph\n",
    "    hwy_speeds : dict\n",
    "        dict keys = OSM highway types and values = typical speeds (km per\n",
    "        hour) to assign to edges of that highway type for any edges missing\n",
    "        speed data. Any edges with highway type not in `hwy_speeds` will be\n",
    "        assigned the mean preexisting speed value of all edges of that highway\n",
    "        type.\n",
    "    fallback : numeric\n",
    "        default speed value (km per hour) to assign to edges whose highway\n",
    "        type did not appear in `hwy_speeds` and had no preexisting speed\n",
    "        values on any edge\n",
    "    precision : int\n",
    "        decimal precision to round speed_kph\n",
    "    agg : function\n",
    "        aggregation function to impute missing values from observed values.\n",
    "        the default is numpy.mean, but you might also consider for example\n",
    "        numpy.median, numpy.nanmedian, or your own custom function\n",
    "    Returns\n",
    "    -------\n",
    "    G : networkx.MultiDiGraph\n",
    "        graph with speed_kph attributes on all edges\n",
    "    \"\"\"\n",
    "    if fallback is None:\n",
    "        fallback = np.nan\n",
    "\n",
    "    #edges = ox.graph_to_gdfs(G, nodes=False, fill_edge_geometry=False)\n",
    "\n",
    "    # collapse any highway lists (can happen during graph simplification)\n",
    "    # into string values simply by keeping just the first element of the list\n",
    "    edges[\"highway\"] = edges[\"highway\"].map(lambda x: x[0] if isinstance(x, list) else x)\n",
    "\n",
    "    if \"speed\" in edges.columns:\n",
    "        # collapse any maxspeed lists (can happen during graph simplification)\n",
    "        # into a single value\n",
    "        edges[\"speed\"] = edges[\"speed\"].apply(_collapse_multiple_maxspeed_values, agg=agg)\n",
    "\n",
    "        # create speed_kph by cleaning maxspeed strings and converting mph to\n",
    "        # kph if necessary\n",
    "        edges[\"speed_kph\"] = edges[\"speed\"].astype(str).map(_clean_maxspeed).astype(float)\n",
    "    else:\n",
    "        # if no edges in graph had a maxspeed attribute\n",
    "        edges[\"speed_kph\"] = None\n",
    "\n",
    "    # if user provided hwy_speeds, use them as default values, otherwise\n",
    "    # initialize an empty series to populate with values\n",
    "    if hwy_speeds is None:\n",
    "        hwy_speed_avg = pd.Series(dtype=float)\n",
    "    else:\n",
    "        hwy_speed_avg = pd.Series(hwy_speeds).dropna()\n",
    "\n",
    "    # for each highway type that caller did not provide in hwy_speeds, impute\n",
    "    # speed of type by taking the mean of the preexisting speed values of that\n",
    "    # highway type\n",
    "    for hwy, group in edges.groupby(\"highway\"):\n",
    "        if hwy not in hwy_speed_avg:\n",
    "            hwy_speed_avg.loc[hwy] = agg(group[\"speed_kph\"])\n",
    "\n",
    "    # if any highway types had no preexisting speed values, impute their speed\n",
    "    # with fallback value provided by caller. if fallback=np.nan, impute speed\n",
    "    # as the mean speed of all highway types that did have preexisting values\n",
    "    hwy_speed_avg = hwy_speed_avg.fillna(fallback).fillna(agg(hwy_speed_avg))\n",
    "\n",
    "    # for each edge missing speed data, assign it the imputed value for its\n",
    "    # highway type\n",
    "    speed_kph = (\n",
    "        edges[[\"highway\", \"speed_kph\"]].set_index(\"highway\").iloc[:, 0].fillna(hwy_speed_avg)\n",
    "    )\n",
    "\n",
    "    # all speeds will be null if edges had no preexisting maxspeed data and\n",
    "    # caller did not pass in hwy_speeds or fallback arguments\n",
    "    if pd.isnull(speed_kph).all():\n",
    "        raise ValueError(\n",
    "            (\n",
    "                \"this graph's edges have no preexisting `maxspeed` \"\n",
    "                \"attribute values so you must pass `hwy_speeds` or \"\n",
    "                \"`fallback` arguments.\"\n",
    "            )\n",
    "        )\n",
    "\n",
    "    # add speed kph attribute to graph edges\n",
    "    edges[\"speed_kph\"] = speed_kph.round(precision).values\n",
    "    nx.set_edge_attributes(G, values=edges[\"speed_kph\"], name=\"speed_kph\")\n",
    "\n",
    "    return G\n",
    "\n",
    "\n",
    "def _clean_maxspeed(value, convert_mph=True):\n",
    "    \"\"\"\n",
    "    Clean a maxspeed string and convert mph to kph if necessary.\n",
    "    Parameters\n",
    "    ----------\n",
    "    value : string\n",
    "        an OSM way maxspeed value\n",
    "    convert_mph : bool\n",
    "        if True, convert mph to kph\n",
    "    Returns\n",
    "    -------\n",
    "    value_clean : string\n",
    "    \"\"\"\n",
    "    MPH_TO_KPH = 1.60934\n",
    "    pattern = re.compile(r\"[^\\d\\.,;]\")\n",
    "\n",
    "    try:\n",
    "        # strip out everything but numbers, periods, commas, semicolons\n",
    "        value_clean = float(re.sub(pattern, \"\", value).replace(\",\", \".\"))\n",
    "        if convert_mph and \"mph\" in value.lower():\n",
    "            value_clean = value_clean * MPH_TO_KPH\n",
    "        return value_clean\n",
    "\n",
    "    except ValueError:\n",
    "        return None\n",
    "\n",
    "\n",
    "def _collapse_multiple_maxspeed_values(value, agg):\n",
    "    \"\"\"\n",
    "    Collapse a list of maxspeed values to a single value.\n",
    "    Parameters\n",
    "    ----------\n",
    "    value : list or string\n",
    "        an OSM way maxspeed value, or a list of them\n",
    "    agg : function\n",
    "        the aggregation function to reduce the list to a single value\n",
    "    Returns\n",
    "    -------\n",
    "    agg_value : int\n",
    "        an integer representation of the aggregated value in the list,\n",
    "        converted to kph if original value was in mph.\n",
    "    \"\"\"\n",
    "    # if this isn't a list, just return it right back to the caller\n",
    "    if not isinstance(value, list):\n",
    "        return value\n",
    "\n",
    "    else:\n",
    "        try:\n",
    "            # clean each value in list and convert to kph if it is mph then\n",
    "            # return a single aggregated value\n",
    "            values = [_clean_maxspeed(x) for x in value]\n",
    "            return int(agg(pd.Series(values).dropna()))\n",
    "        except ValueError:\n",
    "            return None"
   ]
  },
  {
   "cell_type": "code",
   "execution_count": 8,
   "id": "1ae65113",
   "metadata": {},
   "outputs": [],
   "source": [
    "#now adding travel times backed by HERE traffic data for subsequent processing\n",
    "G1=add_edge_speeds3(G,edges2)\n",
    "G1 = ox.add_edge_travel_times(G1)\n",
    "edgesG1=ox.graph_to_gdfs(G1, nodes=False, fill_edge_geometry=False)"
   ]
  },
  {
   "cell_type": "code",
   "execution_count": 5,
   "id": "e9982579",
   "metadata": {},
   "outputs": [],
   "source": [
    "OD_in=pd.read_csv('OD_in.csv')"
   ]
  },
  {
   "cell_type": "code",
   "execution_count": null,
   "id": "903442e6",
   "metadata": {},
   "outputs": [],
   "source": [
    "trips.trips_OD(G1,OD_in,'here75')"
   ]
  },
  {
   "cell_type": "code",
   "execution_count": 6,
   "id": "8639e3b2",
   "metadata": {},
   "outputs": [],
   "source": [
    "routes_raw=pickle.load( open( \"routes_raw_tt_iohere75.data\", \"rb\" ) )"
   ]
  },
  {
   "cell_type": "code",
   "execution_count": 7,
   "id": "9b5fdec2",
   "metadata": {},
   "outputs": [],
   "source": [
    "routes=np.loadtxt('routes_tt_io2here75.txt')"
   ]
  },
  {
   "cell_type": "code",
   "execution_count": null,
   "id": "5f98d57c",
   "metadata": {},
   "outputs": [],
   "source": [
    "trips.tar(routes,routes_raw,'here75')"
   ]
  },
  {
   "cell_type": "code",
   "execution_count": 8,
   "id": "def87c47",
   "metadata": {},
   "outputs": [],
   "source": [
    "routes_imp=routes[np.argsort(-1*routes[:,1])] #top node removals"
   ]
  },
  {
   "cell_type": "code",
   "execution_count": 10,
   "id": "2513a39a",
   "metadata": {},
   "outputs": [],
   "source": [
    "trips2=np.loadtxt('trips_tt_io2here75.txt')"
   ]
  },
  {
   "cell_type": "code",
   "execution_count": null,
   "id": "59d282ca",
   "metadata": {},
   "outputs": [],
   "source": [
    "trips.removal_perc(routes_imp,routes_raw,trips2,'_t_here75')"
   ]
  },
  {
   "cell_type": "code",
   "execution_count": 12,
   "id": "ff70ac76",
   "metadata": {},
   "outputs": [],
   "source": [
    "c_t=np.loadtxt('c_sum_trips_frac_t_here75.txt')"
   ]
  },
  {
   "cell_type": "code",
   "execution_count": 15,
   "id": "822a1bd8",
   "metadata": {},
   "outputs": [],
   "source": [
    "c_t_ff=np.loadtxt('c_sum_trips_frac_t.txt')"
   ]
  },
  {
   "cell_type": "code",
   "execution_count": 16,
   "id": "d974fac7",
   "metadata": {},
   "outputs": [
    {
     "data": {
      "text/plain": [
       "[<matplotlib.lines.Line2D at 0x2b0ea30d070>]"
      ]
     },
     "execution_count": 16,
     "metadata": {},
     "output_type": "execute_result"
    },
    {
     "data": {
      "image/png": "[encoded data removed]",
      "text/plain": [
       "<Figure size 432x288 with 1 Axes>"
      ]
     },
     "metadata": {
      "needs_background": "light"
     },
     "output_type": "display_data"
    }
   ],
   "source": [
    "plt.semilogx(c_t)\n",
    "plt.plot(c_t_ff)"
   ]
  },
  {
   "cell_type": "code",
   "execution_count": null,
   "id": "7cea9c7c",
   "metadata": {},
   "outputs": [],
   "source": [
    "#iterative removal\n",
    "\n",
    "tar=np.loadtxt('tar')\n",
    "\n",
    "\n",
    "routes_it=np.zeros([len(tar),2])\n",
    "routes_it[:,0]=tar\n",
    "\n",
    "\n",
    "trips.removal_perc(routes_it,routes_raw,trips2,'_it_here75')\n",
    "\n",
    "#random removal\n",
    "\n",
    "routes_ran=routes.copy()\n",
    "np.random.shuffle(routes_ran)\n",
    "\n",
    "trips.removal_perc(routes_ran,routes_raw,trips2,'_r_here75')"
   ]
  },
  {
   "cell_type": "code",
   "execution_count": null,
   "id": "d1859bf9",
   "metadata": {},
   "outputs": [],
   "source": []
  }
 ],
 "metadata": {
  "kernelspec": {
   "display_name": "Python 3",
   "language": "python",
   "name": "python3"
  },
  "language_info": {
   "codemirror_mode": {
    "name": "ipython",
    "version": 3
   },
   "file_extension": ".py",
   "mimetype": "text/x-python",
   "name": "python",
   "nbconvert_exporter": "python",
   "pygments_lexer": "ipython3",
   "version": "3.9.5"
  }
 },
 "nbformat": 4,
 "nbformat_minor": 5
}
